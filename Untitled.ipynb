{
 "cells": [
  {
   "cell_type": "code",
   "execution_count": 1,
   "metadata": {},
   "outputs": [],
   "source": [
    "import pandas as pd\n",
    "import numpy as np\n",
    "import re"
   ]
  },
  {
   "cell_type": "code",
   "execution_count": 2,
   "metadata": {},
   "outputs": [],
   "source": [
    "with open('fake_real.json') as f:\n",
    "    fake_real = pd.read_json(f, lines=True)"
   ]
  },
  {
   "cell_type": "code",
   "execution_count": 3,
   "metadata": {},
   "outputs": [],
   "source": [
    "with open('20190601.json') as f:\n",
    "    forecast = pd.read_json(f, lines=True)"
   ]
  },
  {
   "cell_type": "code",
   "execution_count": 4,
   "metadata": {},
   "outputs": [],
   "source": [
    "app_map = [(re.compile(r'cootek\\.smartinput\\.(international|mainland)\\.(ios|android).*'), 'keyboard')]\n",
    "plugin_map = [(re.compile(r'(cootek\\.smartinput\\.android|com\\.cootek\\.smartinputv5)\\.skin\\..*'), 'skin'),\n",
    "              (re.compile(r'(cootek\\.smartinput.android|com\\.cootek\\.smartinputv5)\\.language.*'), 'language'),\n",
    "              (re.compile(r'(cootek\\.smartinput\\.android|com\\.cootek\\.smartinputv5)\\.font.*'), 'font'),\n",
    "              (re.compile(r'(cootek\\.smartinput\\.android|com\\.cootek\\.smartinputv5)\\.emoji.*'), 'emoji'),\n",
    "              (re.compile(r'cootek.smartinput.android.*touchpal.emoji.*'), 'emoji'),\n",
    "              (re.compile(r'(cootek\\.smartinput\\.android|com\\.cootek\\.smartinputv5)\\.sticker.*'), 'sticker'),\n",
    "              (re.compile(r'(cootek\\.smartinput\\.android|com\\.cootek\\.smartinputv5)\\.celldict.*'), 'celldict'),\n",
    "              (re.compile(r'com.cootek.smartinputv5.boomtextv2.*'), 'boomtext')]\n",
    "matrix_plugin_map = [\n",
    "    (re.compile(r'com\\.color\\.call\\.flash\\.colorphone\\.theme\\..*'), 'com.color.call.flash.colorphone.theme')]\n",
    "regex_map = app_map + plugin_map + matrix_plugin_map\n",
    "\n",
    "\n",
    "def app_name2bundle(app_name):\n",
    "    if not app_name:\n",
    "        return app_name\n",
    "    for (k, v) in regex_map:\n",
    "        if k.search(app_name):\n",
    "            return v\n",
    "    return app_name"
   ]
  },
  {
   "cell_type": "code",
   "execution_count": 6,
   "metadata": {},
   "outputs": [],
   "source": [
    "def preprocessing_data(forecast, real, target, attributions):\n",
    "    forecast['app_name'] = forecast['app_name'].map(app_name2bundle)\n",
    "    real['app_name'] = real['app_name'].map(app_name2bundle)\n",
    "    forecast = forecast['impression'].groupby \\\n",
    "        (by=[forecast.app_name, forecast.country, forecast.id_type, forecast.platform, forecast.tu]).sum().reset_index()\n",
    "    forecast = forecast.replace(['none', ''], np.nan).dropna().reset_index(drop=True)  # drop nan\n",
    "    forecast.tu = forecast.tu.astype(int)\n",
    "    real = real['impression'].groupby \\\n",
    "        (by=[real.app_name, real.country, real.id_type, real.platform, real.tu]).sum().reset_index()\n",
    "    real = real.replace(['none', ''], np.nan).dropna().reset_index(drop=True)  # drop nan\n",
    "    real.tu = real.tu.astype(int)\n",
    "    temp = pd.concat([forecast, real])\n",
    "#     real = temp[temp[attributions].duplicated(keep='first')]\n",
    "    real = temp['impression'].groupby \\\n",
    "        (by=[temp.app_name, temp.country, temp.id_type, temp.platform, temp.tu]).min().reset_index()\n",
    "    return forecast, real"
   ]
  },
  {
   "cell_type": "code",
   "execution_count": 7,
   "metadata": {},
   "outputs": [],
   "source": [
    "a, b=preprocessing_data(forecast, fake_real, 'impression', ['app_name', 'country', 'id_type', 'platform', 'tu'])"
   ]
  },
  {
   "cell_type": "code",
   "execution_count": null,
   "metadata": {},
   "outputs": [],
   "source": [
    "forecast['impression'].groupby(forecast.platform).sum() - fake_real['impression'].groupby(fake_real.platform).sum()"
   ]
  },
  {
   "cell_type": "code",
   "execution_count": null,
   "metadata": {},
   "outputs": [],
   "source": [
    "a['impression'].groupby(a.platform).sum() - b['impression'].groupby(b.platform).sum()"
   ]
  },
  {
   "cell_type": "code",
   "execution_count": null,
   "metadata": {},
   "outputs": [],
   "source": [
    "sum((a['impression'] - b['impression']))"
   ]
  },
  {
   "cell_type": "code",
   "execution_count": null,
   "metadata": {},
   "outputs": [],
   "source": [
    "(a.set_index(['app_name', 'country', 'id_type', 'platform', 'tu']) - b.set_index(['app_name', 'country', 'id_type', 'platform', 'tu'])).dropna(axis=0).impression.sum()"
   ]
  },
  {
   "cell_type": "code",
   "execution_count": null,
   "metadata": {},
   "outputs": [],
   "source": [
    "((a[mask_a].set_index(['app_name', 'country', 'id_type', 'platform', 'tu'])-b[mask_b].set_index(['app_name', 'country', 'id_type', 'platform', 'tu'])).dropna(axis=0)).impression.apply(lambda x: x**2).sum("
   ]
  },
  {
   "cell_type": "code",
   "execution_count": null,
   "metadata": {},
   "outputs": [],
   "source": [
    "mask_a = ~a['platform'].isin(['sniper','flurry'])"
   ]
  },
  {
   "cell_type": "code",
   "execution_count": null,
   "metadata": {},
   "outputs": [],
   "source": [
    "mask_b = ~b['platform'].isin(['sniper','flurry'])"
   ]
  },
  {
   "cell_type": "code",
   "execution_count": 8,
   "metadata": {},
   "outputs": [],
   "source": [
    "root_cause = {'app_name': ['com.qrcorde.scan.barcode.reader.generator'],\n",
    "                        'country': [],\n",
    "                        'id_type': [],\n",
    "                        'platform': [],\n",
    "                        'tu': []}"
   ]
  },
  {
   "cell_type": "code",
   "execution_count": 9,
   "metadata": {},
   "outputs": [],
   "source": [
    "import copy"
   ]
  },
  {
   "cell_type": "code",
   "execution_count": 10,
   "metadata": {},
   "outputs": [],
   "source": [
    "def get_scores(root_cause, forecast, real):\n",
    "    # forecast, and real should be in pandas' dataframe\n",
    "    f = copy.deepcopy(forecast)\n",
    "    total_h = (forecast.set_index(['app_name', 'country', 'id_type', 'platform', 'tu'])\\\n",
    "               - real.set_index(['app_name', 'country', 'id_type', 'platform', 'tu'])).dropna(axis=0)\\\n",
    "               ['impression'].apply(lambda x:x**2).sum()\n",
    "    if total_h == 0:\n",
    "        raise Exception(\"Total KPI does not change!\")\n",
    "    f_sum, r_sum = 0, 0\n",
    "    #         for cause in root_cause.items():\n",
    "    #             if cause[1] != []:\n",
    "    #                 f_sum += f[f[cause[0]].isin(cause[1])][self.target].sum()\n",
    "    #                 r_sum += real[real[cause[0]].isin(cause[1])][self.target].sum()\n",
    "    mask_f = pd.Series([True] * len(f))\n",
    "    mask_r = pd.Series([True] * len(real))\n",
    "    for cause in root_cause.items():\n",
    "        if cause[1] != []:\n",
    "            mask_f = mask_f & f[cause[0]].isin(cause[1])\n",
    "            mask_r = mask_r & real[cause[0]].isin(cause[1])\n",
    "    f_sum = f.loc[mask_f]['impression'].sum()\n",
    "    r_sum = real.loc[mask_r]['impression'].sum()\n",
    "\n",
    "    # modified reppile effect.\n",
    "    h = f_sum - r_sum\n",
    "    print(h)\n",
    "    if h == 0:  # under the given root cause, kpi does not change\n",
    "        return 0\n",
    "    mask = pd.Series([True] * len(f))\n",
    "    for cause in root_cause.items():\n",
    "        if cause[1] != []:\n",
    "            mask = mask & f[cause[0]].isin(cause[1])\n",
    "    f = f.join(pd.DataFrame({'mask': mask}))\n",
    "    f.loc[f['mask'] == True, 'impression'] = f.loc[f['mask'] == True, 'impression'] * (1 - h/ f_sum)\n",
    "    f.drop(columns=['mask'], inplace =True)\n",
    "    temp = (f.set_index(['app_name', 'country', 'id_type', 'platform', 'tu'])\\\n",
    "               - real.set_index(['app_name', 'country', 'id_type', 'platform', 'tu'])).dropna(axis=0)\\\n",
    "               ['impression'].apply(lambda x:x**2).sum()\n",
    "    ps = 1 - np.sqrt(temp / total_h)\n",
    "    return max(ps, 0)"
   ]
  },
  {
   "cell_type": "code",
   "execution_count": 11,
   "metadata": {},
   "outputs": [
    {
     "name": "stdout",
     "output_type": "stream",
     "text": [
      "6859356.5\n"
     ]
    },
    {
     "data": {
      "text/plain": [
       "0.009984934567780601"
      ]
     },
     "execution_count": 11,
     "metadata": {},
     "output_type": "execute_result"
    }
   ],
   "source": [
    "get_scores(root_cause, a, b)"
   ]
  },
  {
   "cell_type": "code",
   "execution_count": null,
   "metadata": {},
   "outputs": [],
   "source": [
    "b.app_name"
   ]
  },
  {
   "cell_type": "code",
   "execution_count": null,
   "metadata": {},
   "outputs": [],
   "source": []
  }
 ],
 "metadata": {
  "kernelspec": {
   "display_name": "Python 3",
   "language": "python",
   "name": "python3"
  },
  "language_info": {
   "codemirror_mode": {
    "name": "ipython",
    "version": 3
   },
   "file_extension": ".py",
   "mimetype": "text/x-python",
   "name": "python",
   "nbconvert_exporter": "python",
   "pygments_lexer": "ipython3",
   "version": "3.7.3"
  }
 },
 "nbformat": 4,
 "nbformat_minor": 2
}
