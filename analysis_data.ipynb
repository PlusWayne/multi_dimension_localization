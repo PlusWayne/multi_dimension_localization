{
 "cells": [
  {
   "cell_type": "code",
   "execution_count": 1,
   "metadata": {},
   "outputs": [],
   "source": [
    "import pandas as pd\n",
    "import numpy as np\n",
    "import re\n",
    "import copy"
   ]
  },
  {
   "cell_type": "code",
   "execution_count": 2,
   "metadata": {},
   "outputs": [],
   "source": [
    "with open('20190609.json') as f:\n",
    "    real = pd.read_json(f, lines=True)"
   ]
  },
  {
   "cell_type": "code",
   "execution_count": 3,
   "metadata": {},
   "outputs": [],
   "source": [
    "with open('20190601.json') as f:\n",
    "    forecast = pd.read_json(f, lines=True)"
   ]
  },
  {
   "cell_type": "code",
   "execution_count": 4,
   "metadata": {},
   "outputs": [],
   "source": [
    "app_map = [(re.compile(r'cootek\\.smartinput\\.(international|mainland)\\.(ios|android).*'), 'keyboard')]\n",
    "plugin_map = [(re.compile(r'(cootek\\.smartinput\\.android|com\\.cootek\\.smartinputv5)\\.skin\\..*'), 'skin'),\n",
    "              (re.compile(r'(cootek\\.smartinput.android|com\\.cootek\\.smartinputv5)\\.language.*'), 'language'),\n",
    "              (re.compile(r'(cootek\\.smartinput\\.android|com\\.cootek\\.smartinputv5)\\.font.*'), 'font'),\n",
    "              (re.compile(r'(cootek\\.smartinput\\.android|com\\.cootek\\.smartinputv5)\\.emoji.*'), 'emoji'),\n",
    "              (re.compile(r'cootek.smartinput.android.*touchpal.emoji.*'), 'emoji'),\n",
    "              (re.compile(r'(cootek\\.smartinput\\.android|com\\.cootek\\.smartinputv5)\\.sticker.*'), 'sticker'),\n",
    "              (re.compile(r'(cootek\\.smartinput\\.android|com\\.cootek\\.smartinputv5)\\.celldict.*'), 'celldict'),\n",
    "              (re.compile(r'com.cootek.smartinputv5.boomtextv2.*'), 'boomtext')]\n",
    "matrix_plugin_map = [\n",
    "    (re.compile(r'com\\.color\\.call\\.flash\\.colorphone\\.theme\\..*'), 'com.color.call.flash.colorphone.theme')]\n",
    "regex_map = app_map + plugin_map + matrix_plugin_map\n",
    "\n",
    "\n",
    "def app_name2bundle(app_name):\n",
    "    if not app_name:\n",
    "        return app_name\n",
    "    for (k, v) in regex_map:\n",
    "        if k.search(app_name):\n",
    "            return v\n",
    "    return app_name"
   ]
  },
  {
   "cell_type": "code",
   "execution_count": 5,
   "metadata": {},
   "outputs": [],
   "source": [
    "def preprocessing_data(forecast, real, target, attributions):\n",
    "    forecast['app_name'] = forecast['app_name'].map(app_name2bundle)\n",
    "    real['app_name'] = real['app_name'].map(app_name2bundle)\n",
    "    forecast = forecast['impression'].groupby \\\n",
    "        (by=[forecast.app_name, forecast.country, forecast.id_type, forecast.platform, forecast.tu]).sum().reset_index()\n",
    "    forecast = forecast.replace(['none', ''], np.nan).dropna().reset_index(drop=True)  # drop nan\n",
    "    forecast.tu = forecast.tu.astype(int)\n",
    "    real = real['impression'].groupby \\\n",
    "        (by=[real.app_name, real.country, real.id_type, real.platform, real.tu]).sum().reset_index()\n",
    "    real = real.replace(['none', ''], np.nan).dropna().reset_index(drop=True)  # drop nan\n",
    "    real.tu = real.tu.astype(int)\n",
    "    temp = pd.concat([forecast, real])\n",
    "#     real = temp[temp[attributions].duplicated(keep='first')]\n",
    "    real = temp['impression'].groupby \\\n",
    "        (by=[temp.app_name, temp.country, temp.id_type, temp.platform, temp.tu]).min().reset_index()\n",
    "    return forecast, real"
   ]
  },
  {
   "cell_type": "code",
   "execution_count": 44,
   "metadata": {},
   "outputs": [],
   "source": [
    "a, b=preprocessing_data(forecast, real, 'impression', ['app_name', 'country', 'id_type', 'platform', 'tu'])"
   ]
  },
  {
   "cell_type": "code",
   "execution_count": null,
   "metadata": {
    "scrolled": true
   },
   "outputs": [],
   "source": [
    "(a['impression'].groupby(a['app_name']).sum().reset_index().set_index('app_name') - b['impression'].groupby(b['app_name']).sum().reset_index().set_index('app_name')).reset_index().sort_values(by='impression',ascending = False)"
   ]
  },
  {
   "cell_type": "code",
   "execution_count": 17,
   "metadata": {},
   "outputs": [
    {
     "data": {
      "text/plain": [
       "251831"
      ]
     },
     "execution_count": 17,
     "metadata": {},
     "output_type": "execute_result"
    }
   ],
   "source": [
    "len(a)"
   ]
  },
  {
   "cell_type": "code",
   "execution_count": 19,
   "metadata": {},
   "outputs": [
    {
     "data": {
      "text/plain": [
       "1398669375.0"
      ]
     },
     "execution_count": 19,
     "metadata": {},
     "output_type": "execute_result"
    }
   ],
   "source": [
    "(a[0:50000].set_index(['app_name', 'country', 'id_type', 'platform', 'tu'])-b[0:50000].set_index(['app_name', 'country', 'id_type', 'platform', 'tu'])).impression.sum()\n",
    "#.dropna(axis=0)['impression'].apply(lambda x:x**2).sum()"
   ]
  },
  {
   "cell_type": "code",
   "execution_count": 21,
   "metadata": {},
   "outputs": [
    {
     "data": {
      "text/plain": [
       "11194508.0"
      ]
     },
     "execution_count": 21,
     "metadata": {},
     "output_type": "execute_result"
    }
   ],
   "source": [
    "(a[0:50000]['impression'] - b[0:50000]['impression']).sum()"
   ]
  },
  {
   "cell_type": "code",
   "execution_count": null,
   "metadata": {},
   "outputs": [],
   "source": [
    "def get_scores(root_cause, forecast, real):\n",
    "    # forecast, and real should be in pandas' dataframe\n",
    "    f = copy.deepcopy(forecast)\n",
    "    total_h = (forecast.set_index(['app_name', 'country', 'id_type', 'platform', 'tu'])\\\n",
    "               - real.set_index(['app_name', 'country', 'id_type', 'platform', 'tu'])).dropna(axis=0)\\\n",
    "               ['impression'].apply(lambda x:x**2).sum()\n",
    "    if total_h == 0:\n",
    "        raise Exception(\"Total KPI does not change!\")\n",
    "    f_sum, r_sum = 0, 0\n",
    "    #         for cause in root_cause.items():\n",
    "    #             if cause[1] != []:\n",
    "    #                 f_sum += f[f[cause[0]].isin(cause[1])][self.target].sum()\n",
    "    #                 r_sum += real[real[cause[0]].isin(cause[1])][self.target].sum()\n",
    "    mask_f = pd.Series([True] * len(f))\n",
    "    mask_r = pd.Series([True] * len(real))\n",
    "    for cause in root_cause.items():\n",
    "        if cause[1] != []:\n",
    "            mask_f = mask_f & f[cause[0]].isin(cause[1])\n",
    "            mask_r = mask_r & real[cause[0]].isin(cause[1])\n",
    "    f_sum = f.loc[mask_f]['impression'].sum()\n",
    "    r_sum = real.loc[mask_r]['impression'].sum()\n",
    "\n",
    "    # modified reppile effect.\n",
    "    h = f_sum - r_sum\n",
    "    if h == 0:  # under the given root cause, kpi does not change\n",
    "        return 0\n",
    "    mask = pd.Series([True] * len(f))\n",
    "    for cause in root_cause.items():\n",
    "        if cause[1] != []:\n",
    "            mask = mask & f[cause[0]].isin(cause[1])\n",
    "    f = f.join(pd.DataFrame({'mask': mask}))\n",
    "    f.loc[f['mask'] == True, 'impression'] = f.loc[f['mask'] == True, 'impression'] * (1 - h/ f_sum)\n",
    "    f.drop(columns=['mask'], inplace =True)\n",
    "    temp = (f.set_index(['app_name', 'country', 'id_type', 'platform', 'tu'])\\\n",
    "               - real.set_index(['app_name', 'country', 'id_type', 'platform', 'tu'])).dropna(axis=0)\\\n",
    "               ['impression'].apply(lambda x:x**2).sum()\n",
    "    ps = 1 - np.sqrt(temp / total_h)\n",
    "    return max(ps, 0)"
   ]
  },
  {
   "cell_type": "code",
   "execution_count": null,
   "metadata": {},
   "outputs": [],
   "source": [
    "root_cause = {'app_name': [],\n",
    "                'country': [],\n",
    "                'id_type': [],\n",
    "                'platform': ['admob','sniper','mopub','adx'],\n",
    "                'tu': []}"
   ]
  },
  {
   "cell_type": "code",
   "execution_count": null,
   "metadata": {},
   "outputs": [],
   "source": [
    "get_scores(root_cause, c, d)"
   ]
  },
  {
   "cell_type": "code",
   "execution_count": null,
   "metadata": {},
   "outputs": [],
   "source": [
    "f = copy.deepcopy(c)\n",
    "total_h = (c.set_index(['app_name', 'country', 'id_type', 'platform', 'tu'])\\\n",
    "           - d.set_index(['app_name', 'country', 'id_type', 'platform', 'tu'])).dropna(axis=0)\\\n",
    "           ['impression'].apply(lambda x:x**2).sum()\n",
    "if total_h == 0:\n",
    "    raise Exception(\"Total KPI does not change!\")\n",
    "f_sum, r_sum = 0, 0\n",
    "#         for cause in root_cause.items():\n",
    "#             if cause[1] != []:\n",
    "#                 f_sum += f[f[cause[0]].isin(cause[1])][self.target].sum()\n",
    "#                 r_sum += real[real[cause[0]].isin(cause[1])][self.target].sum()\n",
    "mask_f = pd.Series([True] * len(f))\n",
    "mask_r = pd.Series([True] * len(real))\n",
    "for cause in root_cause.items():\n",
    "    if cause[1] != []:\n",
    "        mask_f = mask_f & f[cause[0]].isin(cause[1])\n",
    "        mask_r = mask_r & real[cause[0]].isin(cause[1])\n",
    "f_sum = f.loc[mask_f]['impression'].sum()\n",
    "r_sum = c.loc[mask_r]['impression'].sum()"
   ]
  },
  {
   "cell_type": "code",
   "execution_count": null,
   "metadata": {},
   "outputs": [],
   "source": [
    "list(testdata[0:10]['app_name'])"
   ]
  },
  {
   "cell_type": "code",
   "execution_count": null,
   "metadata": {},
   "outputs": [],
   "source": [
    "mask = ~a.country.isin(list(testdata[0:10].app_name))"
   ]
  },
  {
   "cell_type": "code",
   "execution_count": null,
   "metadata": {
    "scrolled": true
   },
   "outputs": [],
   "source": [
    "a.loc[mask, 'app_name'] = 'other'"
   ]
  },
  {
   "cell_type": "code",
   "execution_count": null,
   "metadata": {},
   "outputs": [],
   "source": [
    "a"
   ]
  },
  {
   "cell_type": "code",
   "execution_count": null,
   "metadata": {},
   "outputs": [],
   "source": [
    "a[a.country=='other'].impression.sum() / a.impression.sum()"
   ]
  },
  {
   "cell_type": "code",
   "execution_count": null,
   "metadata": {},
   "outputs": [],
   "source": [
    "for attr in ['app_name', 'country', 'id_type', 'platform', 'tu']:\n",
    "    rank = (a['impression'].groupby(a[attr]).sum().reset_index().set_index(attr) -\\\n",
    "                b['impression'].groupby(b[attr]).sum().reset_index().set_index(attr)) \\\n",
    "                .reset_index().sort_values(by='impression',ascending = False)\n",
    "    mask = ~a[attr].isin(list(rank[0:10][attr]))\n",
    "    a.loc[mask, attr] = 'other'"
   ]
  },
  {
   "cell_type": "code",
   "execution_count": null,
   "metadata": {},
   "outputs": [],
   "source": [
    "a"
   ]
  },
  {
   "cell_type": "code",
   "execution_count": 45,
   "metadata": {},
   "outputs": [],
   "source": [
    "def groupToOthers(forecast, real, topK=5):\n",
    "    for attr in ['app_name', 'country', 'id_type', 'platform', 'tu']:\n",
    "        rank = forecast['impression'].groupby(forecast[attr]).sum().sort_values(ascending=False).reset_index()\n",
    "        mask_forecast = ~forecast[attr].isin(list(rank[0:topK][attr]))\n",
    "        mask_real = ~real[attr].isin(list(rank[0:topK][attr]))\n",
    "        if attr != 'tu':\n",
    "            forecast.loc[mask_forecast, attr] = 'other '+attr\n",
    "            real.loc[mask_real, attr] = 'other '+attr\n",
    "        else:\n",
    "            forecast.loc[mask_forecast, attr] = 0\n",
    "            real.loc[mask_real, attr] = 0\n",
    "    forecast = forecast.groupby(by=['app_name','country','id_type','platform','tu']).sum().reset_index()\n",
    "    real = real.groupby(by=['app_name','country','id_type','platform','tu']).sum().reset_index()\n",
    "    return forecast, real"
   ]
  },
  {
   "cell_type": "code",
   "execution_count": 46,
   "metadata": {},
   "outputs": [],
   "source": [
    "c, d =groupToOthers(a, b, topK=5)"
   ]
  },
  {
   "cell_type": "code",
   "execution_count": 38,
   "metadata": {},
   "outputs": [
    {
     "data": {
      "text/plain": [
       "74690202.0"
      ]
     },
     "execution_count": 38,
     "metadata": {},
     "output_type": "execute_result"
    }
   ],
   "source": [
    "(a.set_index(['app_name', 'country', 'id_type', 'platform', 'tu'])-b.set_index(['app_name', 'country', 'id_type', 'platform', 'tu'])).impression.sum()\n",
    "#.dropna(axis=0)['impression'].apply(lambda x:x**2).sum()"
   ]
  },
  {
   "cell_type": "code",
   "execution_count": 56,
   "metadata": {},
   "outputs": [
    {
     "data": {
      "text/plain": [
       "139448073"
      ]
     },
     "execution_count": 56,
     "metadata": {},
     "output_type": "execute_result"
    }
   ],
   "source": [
    "a.impression.sum() - b.impression.sum()"
   ]
  },
  {
   "cell_type": "code",
   "execution_count": 63,
   "metadata": {},
   "outputs": [
    {
     "name": "stderr",
     "output_type": "stream",
     "text": [
      "/home/wei.xu/anaconda3/lib/python3.7/site-packages/ipykernel_launcher.py:1: UserWarning: Boolean Series key will be reindexed to match DataFrame index.\n",
      "  \"\"\"Entry point for launching an IPython kernel.\n"
     ]
    },
    {
     "data": {
      "text/plain": [
       "88828232"
      ]
     },
     "execution_count": 63,
     "metadata": {},
     "output_type": "execute_result"
    }
   ],
   "source": [
    "a[a.platform.isin(['admob','adx'])][a.tu==2338].impression.sum()#.impression.sum() - b[b.app_name=='skin'][b.tu==2338].impression.sum()"
   ]
  },
  {
   "cell_type": "code",
   "execution_count": 64,
   "metadata": {},
   "outputs": [
    {
     "data": {
      "text/plain": [
       "0.6369986338929187"
      ]
     },
     "execution_count": 64,
     "metadata": {},
     "output_type": "execute_result"
    }
   ],
   "source": [
    "88828232 / 139448073"
   ]
  },
  {
   "cell_type": "code",
   "execution_count": null,
   "metadata": {},
   "outputs": [],
   "source": []
  }
 ],
 "metadata": {
  "kernelspec": {
   "display_name": "Python 3",
   "language": "python",
   "name": "python3"
  },
  "language_info": {
   "codemirror_mode": {
    "name": "ipython",
    "version": 3
   },
   "file_extension": ".py",
   "mimetype": "text/x-python",
   "name": "python",
   "nbconvert_exporter": "python",
   "pygments_lexer": "ipython3",
   "version": "3.7.3"
  }
 },
 "nbformat": 4,
 "nbformat_minor": 2
}
